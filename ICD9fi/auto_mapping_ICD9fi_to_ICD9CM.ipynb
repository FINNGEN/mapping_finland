{
 "cells": [
  {
   "cell_type": "code",
   "execution_count": 4,
   "metadata": {},
   "outputs": [],
   "source": [
    "require(tidyverse)\n",
    "require(feather)\n",
    "require(stringdist)\n",
    "\n",
    "data_folder_path <- \"C:\\\\Users\\\\javier\\\\WorkSpace\"\n"
   ]
  },
  {
   "cell_type": "markdown",
   "metadata": {},
   "source": [
    "# Load ICD9fi and ICD9CM\n",
    "\n",
    "The table with the ICD9fi codes was shared with me privately, so this document do not show this table "
   ]
  },
  {
   "cell_type": "code",
   "execution_count": 2,
   "metadata": {},
   "outputs": [],
   "source": [
    "# load ICD10fi\n",
    "thl_icd9fi <- read_feather(file.path(data_folder_path,\n",
    "                                      \"ICD9fi\",\n",
    "                                      \"FINNGEN_ICD9fi.feather\") )"
   ]
  },
  {
   "cell_type": "code",
   "execution_count": 32,
   "metadata": {},
   "outputs": [],
   "source": [
    "# load concept table and get the ICD10who\n",
    "concept <- read_feather(file.path(data_folder_path,\n",
    "                                      \"OMOP_vocabulary_v5\",\n",
    "                                      \"CONCEPT.feather\") )\n",
    "concept_icd9 <- concept  %>% filter(vocabulary_id == \"ICD9CM\")%>% \n",
    "    select(concept_code, concept_name)  %>% arrange(concept_code) "
   ]
  },
  {
   "cell_type": "markdown",
   "metadata": {},
   "source": [
    "# Study codes"
   ]
  },
  {
   "cell_type": "markdown",
   "metadata": {},
   "source": [
    "**Summary ICD9fi coding**\n",
    "\n",
    "HUOMIO!! this is a personal interpretation, I am not sure this is true !!!\n",
    "\n",
    "At first ICD9fi seems to mostly match ICD9CM as \n",
    "- Match up to the 4th digit level\n",
    "- The 5th digit is a Letter in ICD9fi. Although many codes the leter convert to number (A->1, B->2, ...) works, for others this does not match. e.i. \"^008\"\n",
    "\n",
    "**Summary ICD9CM coding**\n",
    "\n",
    "https://www.ohdsi.org/web/wiki/doku.php?id=documentation:vocabulary:icd9cm"
   ]
  },
  {
   "cell_type": "code",
   "execution_count": 24,
   "metadata": {
    "scrolled": true
   },
   "outputs": [
    {
     "data": {
      "text/html": [
       "<table>\n",
       "<caption>A tibble: 18 × 3</caption>\n",
       "<thead>\n",
       "\t<tr><th scope=col>ICD9</th><th scope=col>ICD9LYH</th><th scope=col>ICD9TXT</th></tr>\n",
       "\t<tr><th scope=col>&lt;chr&gt;</th><th scope=col>&lt;chr&gt;</th><th scope=col>&lt;chr&gt;</th></tr>\n",
       "</thead>\n",
       "<tbody>\n",
       "\t<tr><td>008  </td><td>ENTERIT P.ORGANIS AL</td><td>ENTERITIS PER ORGANISMATA ALIA SPECIFICATA     </td></tr>\n",
       "\t<tr><td>0080A</td><td>ENTER E.COLI TOXINUM</td><td>ENTERITIS E. COLI PATHOGENICA PER TOXINUM      </td></tr>\n",
       "\t<tr><td>0080B</td><td>ENTER E.COLI INVASIV</td><td>ENTERITIS E. COLI PATHOGENICA INVASIVA         </td></tr>\n",
       "\t<tr><td>0081A</td><td>ENTERITIS ARIZONA   </td><td>ENTERITIS ARIZONA                              </td></tr>\n",
       "\t<tr><td>0082A</td><td>ENTER AEROBAC AEROGE</td><td>ENTERITIS AEROBACTER AEROGENES                 </td></tr>\n",
       "\t<tr><td>0083A</td><td>ENTERIT PROTEU MIRAB</td><td>ENTERITIS PROTEUS MIRABILIS                    </td></tr>\n",
       "\t<tr><td>0084A</td><td>ENTERITIS STAPHYLOCC</td><td>ENTERITIS STAPHYLOCOCCICA                      </td></tr>\n",
       "\t<tr><td>0084B</td><td>ENTERITIS PSEUDOMON </td><td>ENTERITIS PSEUDOMONAS                          </td></tr>\n",
       "\t<tr><td>0084C</td><td>ENTER YERS ENTEROCOL</td><td>ENTERITIS YERSINIA ENTEROCOLITICA              </td></tr>\n",
       "\t<tr><td>0084D</td><td>ENTER YERS PSEUDOTUB</td><td>ENTERITIS YERSINIA PSEUDOTUBERCULOSA           </td></tr>\n",
       "\t<tr><td>0084E</td><td>ENTERIT CAMPYLOBACT </td><td>ENTERITIS CAMPYLOBACTER                        </td></tr>\n",
       "\t<tr><td>0084F</td><td>ENTER CLOSTR DIFFICI</td><td>ENTERITIS CLOSTRIDIUM DIFFICILE                </td></tr>\n",
       "\t<tr><td>0085X</td><td>ENTER BACT ALIA/NUD </td><td>ENTERITIS BACTERIA ALIA SEU NUD                </td></tr>\n",
       "\t<tr><td>0086A</td><td>ENTERIT VIROSA ROTA </td><td>ENTERITIS VIROSA ROTA                          </td></tr>\n",
       "\t<tr><td>0086B</td><td>ENTER VIROSA NORWALK</td><td>ENTERITIS VIROSA NORWALK                       </td></tr>\n",
       "\t<tr><td>0086C</td><td>ENTER VIROSA AL DEFI</td><td>ENTERITIS VIROSA ALIA DEFINITA SEU NUD         </td></tr>\n",
       "\t<tr><td>0086X</td><td>ENTERITIS VIROSA NUD</td><td>ENTERITIS VIROSA NUD                           </td></tr>\n",
       "\t<tr><td>0088X</td><td>ENTERIT P.ORGANIS AL</td><td>ENTERITIS PER ORGANISMATA ALIA (NONBACT.NONVIR)</td></tr>\n",
       "</tbody>\n",
       "</table>\n"
      ],
      "text/latex": [
       "A tibble: 18 × 3\n",
       "\\begin{tabular}{lll}\n",
       " ICD9 & ICD9LYH & ICD9TXT\\\\\n",
       " <chr> & <chr> & <chr>\\\\\n",
       "\\hline\n",
       "\t 008   & ENTERIT P.ORGANIS AL & ENTERITIS PER ORGANISMATA ALIA SPECIFICATA     \\\\\n",
       "\t 0080A & ENTER E.COLI TOXINUM & ENTERITIS E. COLI PATHOGENICA PER TOXINUM      \\\\\n",
       "\t 0080B & ENTER E.COLI INVASIV & ENTERITIS E. COLI PATHOGENICA INVASIVA         \\\\\n",
       "\t 0081A & ENTERITIS ARIZONA    & ENTERITIS ARIZONA                              \\\\\n",
       "\t 0082A & ENTER AEROBAC AEROGE & ENTERITIS AEROBACTER AEROGENES                 \\\\\n",
       "\t 0083A & ENTERIT PROTEU MIRAB & ENTERITIS PROTEUS MIRABILIS                    \\\\\n",
       "\t 0084A & ENTERITIS STAPHYLOCC & ENTERITIS STAPHYLOCOCCICA                      \\\\\n",
       "\t 0084B & ENTERITIS PSEUDOMON  & ENTERITIS PSEUDOMONAS                          \\\\\n",
       "\t 0084C & ENTER YERS ENTEROCOL & ENTERITIS YERSINIA ENTEROCOLITICA              \\\\\n",
       "\t 0084D & ENTER YERS PSEUDOTUB & ENTERITIS YERSINIA PSEUDOTUBERCULOSA           \\\\\n",
       "\t 0084E & ENTERIT CAMPYLOBACT  & ENTERITIS CAMPYLOBACTER                        \\\\\n",
       "\t 0084F & ENTER CLOSTR DIFFICI & ENTERITIS CLOSTRIDIUM DIFFICILE                \\\\\n",
       "\t 0085X & ENTER BACT ALIA/NUD  & ENTERITIS BACTERIA ALIA SEU NUD                \\\\\n",
       "\t 0086A & ENTERIT VIROSA ROTA  & ENTERITIS VIROSA ROTA                          \\\\\n",
       "\t 0086B & ENTER VIROSA NORWALK & ENTERITIS VIROSA NORWALK                       \\\\\n",
       "\t 0086C & ENTER VIROSA AL DEFI & ENTERITIS VIROSA ALIA DEFINITA SEU NUD         \\\\\n",
       "\t 0086X & ENTERITIS VIROSA NUD & ENTERITIS VIROSA NUD                           \\\\\n",
       "\t 0088X & ENTERIT P.ORGANIS AL & ENTERITIS PER ORGANISMATA ALIA (NONBACT.NONVIR)\\\\\n",
       "\\end{tabular}\n"
      ],
      "text/markdown": [
       "\n",
       "A tibble: 18 × 3\n",
       "\n",
       "| ICD9 &lt;chr&gt; | ICD9LYH &lt;chr&gt; | ICD9TXT &lt;chr&gt; |\n",
       "|---|---|---|\n",
       "| 008   | ENTERIT P.ORGANIS AL | ENTERITIS PER ORGANISMATA ALIA SPECIFICATA      |\n",
       "| 0080A | ENTER E.COLI TOXINUM | ENTERITIS E. COLI PATHOGENICA PER TOXINUM       |\n",
       "| 0080B | ENTER E.COLI INVASIV | ENTERITIS E. COLI PATHOGENICA INVASIVA          |\n",
       "| 0081A | ENTERITIS ARIZONA    | ENTERITIS ARIZONA                               |\n",
       "| 0082A | ENTER AEROBAC AEROGE | ENTERITIS AEROBACTER AEROGENES                  |\n",
       "| 0083A | ENTERIT PROTEU MIRAB | ENTERITIS PROTEUS MIRABILIS                     |\n",
       "| 0084A | ENTERITIS STAPHYLOCC | ENTERITIS STAPHYLOCOCCICA                       |\n",
       "| 0084B | ENTERITIS PSEUDOMON  | ENTERITIS PSEUDOMONAS                           |\n",
       "| 0084C | ENTER YERS ENTEROCOL | ENTERITIS YERSINIA ENTEROCOLITICA               |\n",
       "| 0084D | ENTER YERS PSEUDOTUB | ENTERITIS YERSINIA PSEUDOTUBERCULOSA            |\n",
       "| 0084E | ENTERIT CAMPYLOBACT  | ENTERITIS CAMPYLOBACTER                         |\n",
       "| 0084F | ENTER CLOSTR DIFFICI | ENTERITIS CLOSTRIDIUM DIFFICILE                 |\n",
       "| 0085X | ENTER BACT ALIA/NUD  | ENTERITIS BACTERIA ALIA SEU NUD                 |\n",
       "| 0086A | ENTERIT VIROSA ROTA  | ENTERITIS VIROSA ROTA                           |\n",
       "| 0086B | ENTER VIROSA NORWALK | ENTERITIS VIROSA NORWALK                        |\n",
       "| 0086C | ENTER VIROSA AL DEFI | ENTERITIS VIROSA ALIA DEFINITA SEU NUD          |\n",
       "| 0086X | ENTERITIS VIROSA NUD | ENTERITIS VIROSA NUD                            |\n",
       "| 0088X | ENTERIT P.ORGANIS AL | ENTERITIS PER ORGANISMATA ALIA (NONBACT.NONVIR) |\n",
       "\n"
      ],
      "text/plain": [
       "   ICD9  ICD9LYH              ICD9TXT                                        \n",
       "1  008   ENTERIT P.ORGANIS AL ENTERITIS PER ORGANISMATA ALIA SPECIFICATA     \n",
       "2  0080A ENTER E.COLI TOXINUM ENTERITIS E. COLI PATHOGENICA PER TOXINUM      \n",
       "3  0080B ENTER E.COLI INVASIV ENTERITIS E. COLI PATHOGENICA INVASIVA         \n",
       "4  0081A ENTERITIS ARIZONA    ENTERITIS ARIZONA                              \n",
       "5  0082A ENTER AEROBAC AEROGE ENTERITIS AEROBACTER AEROGENES                 \n",
       "6  0083A ENTERIT PROTEU MIRAB ENTERITIS PROTEUS MIRABILIS                    \n",
       "7  0084A ENTERITIS STAPHYLOCC ENTERITIS STAPHYLOCOCCICA                      \n",
       "8  0084B ENTERITIS PSEUDOMON  ENTERITIS PSEUDOMONAS                          \n",
       "9  0084C ENTER YERS ENTEROCOL ENTERITIS YERSINIA ENTEROCOLITICA              \n",
       "10 0084D ENTER YERS PSEUDOTUB ENTERITIS YERSINIA PSEUDOTUBERCULOSA           \n",
       "11 0084E ENTERIT CAMPYLOBACT  ENTERITIS CAMPYLOBACTER                        \n",
       "12 0084F ENTER CLOSTR DIFFICI ENTERITIS CLOSTRIDIUM DIFFICILE                \n",
       "13 0085X ENTER BACT ALIA/NUD  ENTERITIS BACTERIA ALIA SEU NUD                \n",
       "14 0086A ENTERIT VIROSA ROTA  ENTERITIS VIROSA ROTA                          \n",
       "15 0086B ENTER VIROSA NORWALK ENTERITIS VIROSA NORWALK                       \n",
       "16 0086C ENTER VIROSA AL DEFI ENTERITIS VIROSA ALIA DEFINITA SEU NUD         \n",
       "17 0086X ENTERITIS VIROSA NUD ENTERITIS VIROSA NUD                           \n",
       "18 0088X ENTERIT P.ORGANIS AL ENTERITIS PER ORGANISMATA ALIA (NONBACT.NONVIR)"
      ]
     },
     "metadata": {},
     "output_type": "display_data"
    }
   ],
   "source": [
    "pattern = \"^008\"\n",
    "\n",
    "thl_icd9fi  %>% filter(grepl(pattern,ICD9))"
   ]
  },
  {
   "cell_type": "code",
   "execution_count": 33,
   "metadata": {
    "scrolled": true
   },
   "outputs": [
    {
     "data": {
      "text/html": [
       "<table>\n",
       "<caption>A tibble: 31 × 2</caption>\n",
       "<thead>\n",
       "\t<tr><th scope=col>concept_code</th><th scope=col>concept_name</th></tr>\n",
       "\t<tr><th scope=col>&lt;chr&gt;</th><th scope=col>&lt;chr&gt;</th></tr>\n",
       "</thead>\n",
       "<tbody>\n",
       "\t<tr><td>008   </td><td>Intestinal infections due to other organisms                        </td></tr>\n",
       "\t<tr><td>008.0 </td><td>Intestinal infection due to escherichia coli [E. coli]              </td></tr>\n",
       "\t<tr><td>008.00</td><td>Intestinal infection due to E. coli, unspecified                    </td></tr>\n",
       "\t<tr><td>008.01</td><td>Intestinal infection due to enteropathogenic E. coli                </td></tr>\n",
       "\t<tr><td>008.02</td><td>Intestinal infection due to enterotoxigenic E. coli                 </td></tr>\n",
       "\t<tr><td>008.03</td><td>Intestinal infection due to enteroinvasive E. coli                  </td></tr>\n",
       "\t<tr><td>008.04</td><td>Intestinal infection due to enterohemorrhagic E. coli               </td></tr>\n",
       "\t<tr><td>008.09</td><td>Intestinal infection due to other intestinal E. coli infections     </td></tr>\n",
       "\t<tr><td>008.1 </td><td>Intestinal infection due to arizona group of paracolon bacilli      </td></tr>\n",
       "\t<tr><td>008.2 </td><td>Intestinal infection due to aerobacter aerogenes                    </td></tr>\n",
       "\t<tr><td>008.3 </td><td>Intestinal infection due to proteus (mirabilis) (morganii)          </td></tr>\n",
       "\t<tr><td>008.4 </td><td>Intestinal infection due to other specified bacteria                </td></tr>\n",
       "\t<tr><td>008.41</td><td>Intestinal infection due to staphylococcus                          </td></tr>\n",
       "\t<tr><td>008.42</td><td>Intestinal infection due to pseudomonas                             </td></tr>\n",
       "\t<tr><td>008.43</td><td>Intestinal infection due to campylobacter                           </td></tr>\n",
       "\t<tr><td>008.44</td><td>Intestinal infection due to yersinia enterocolitica                 </td></tr>\n",
       "\t<tr><td>008.45</td><td>Intestinal infection due to Clostridium difficile                   </td></tr>\n",
       "\t<tr><td>008.46</td><td>Intestinal infection due to other anaerobes                         </td></tr>\n",
       "\t<tr><td>008.47</td><td>Intestinal infection due to other gram-negative bacteria            </td></tr>\n",
       "\t<tr><td>008.49</td><td>Intestinal infection due to other organisms                         </td></tr>\n",
       "\t<tr><td>008.5 </td><td>Bacterial enteritis, unspecified                                    </td></tr>\n",
       "\t<tr><td>008.6 </td><td>Enteritis due to specified virus                                    </td></tr>\n",
       "\t<tr><td>008.61</td><td>Enteritis due to rotavirus                                          </td></tr>\n",
       "\t<tr><td>008.62</td><td>Enteritis due to adenovirus                                         </td></tr>\n",
       "\t<tr><td>008.63</td><td>Enteritis due to norwalk virus                                      </td></tr>\n",
       "\t<tr><td>008.64</td><td>Enteritis due to other small round viruses [SRV's]                  </td></tr>\n",
       "\t<tr><td>008.65</td><td>Enteritis due to calicivirus                                        </td></tr>\n",
       "\t<tr><td>008.66</td><td>Enteritis due to astrovirus                                         </td></tr>\n",
       "\t<tr><td>008.67</td><td>Enteritis due to enterovirus nec                                    </td></tr>\n",
       "\t<tr><td>008.69</td><td>Enteritis due to other viral enteritis                              </td></tr>\n",
       "\t<tr><td>008.8 </td><td>Intestinal infection due to other organism, not elsewhere classified</td></tr>\n",
       "</tbody>\n",
       "</table>\n"
      ],
      "text/latex": [
       "A tibble: 31 × 2\n",
       "\\begin{tabular}{ll}\n",
       " concept\\_code & concept\\_name\\\\\n",
       " <chr> & <chr>\\\\\n",
       "\\hline\n",
       "\t 008    & Intestinal infections due to other organisms                        \\\\\n",
       "\t 008.0  & Intestinal infection due to escherichia coli {[}E. coli{]}              \\\\\n",
       "\t 008.00 & Intestinal infection due to E. coli, unspecified                    \\\\\n",
       "\t 008.01 & Intestinal infection due to enteropathogenic E. coli                \\\\\n",
       "\t 008.02 & Intestinal infection due to enterotoxigenic E. coli                 \\\\\n",
       "\t 008.03 & Intestinal infection due to enteroinvasive E. coli                  \\\\\n",
       "\t 008.04 & Intestinal infection due to enterohemorrhagic E. coli               \\\\\n",
       "\t 008.09 & Intestinal infection due to other intestinal E. coli infections     \\\\\n",
       "\t 008.1  & Intestinal infection due to arizona group of paracolon bacilli      \\\\\n",
       "\t 008.2  & Intestinal infection due to aerobacter aerogenes                    \\\\\n",
       "\t 008.3  & Intestinal infection due to proteus (mirabilis) (morganii)          \\\\\n",
       "\t 008.4  & Intestinal infection due to other specified bacteria                \\\\\n",
       "\t 008.41 & Intestinal infection due to staphylococcus                          \\\\\n",
       "\t 008.42 & Intestinal infection due to pseudomonas                             \\\\\n",
       "\t 008.43 & Intestinal infection due to campylobacter                           \\\\\n",
       "\t 008.44 & Intestinal infection due to yersinia enterocolitica                 \\\\\n",
       "\t 008.45 & Intestinal infection due to Clostridium difficile                   \\\\\n",
       "\t 008.46 & Intestinal infection due to other anaerobes                         \\\\\n",
       "\t 008.47 & Intestinal infection due to other gram-negative bacteria            \\\\\n",
       "\t 008.49 & Intestinal infection due to other organisms                         \\\\\n",
       "\t 008.5  & Bacterial enteritis, unspecified                                    \\\\\n",
       "\t 008.6  & Enteritis due to specified virus                                    \\\\\n",
       "\t 008.61 & Enteritis due to rotavirus                                          \\\\\n",
       "\t 008.62 & Enteritis due to adenovirus                                         \\\\\n",
       "\t 008.63 & Enteritis due to norwalk virus                                      \\\\\n",
       "\t 008.64 & Enteritis due to other small round viruses {[}SRV's{]}                  \\\\\n",
       "\t 008.65 & Enteritis due to calicivirus                                        \\\\\n",
       "\t 008.66 & Enteritis due to astrovirus                                         \\\\\n",
       "\t 008.67 & Enteritis due to enterovirus nec                                    \\\\\n",
       "\t 008.69 & Enteritis due to other viral enteritis                              \\\\\n",
       "\t 008.8  & Intestinal infection due to other organism, not elsewhere classified\\\\\n",
       "\\end{tabular}\n"
      ],
      "text/markdown": [
       "\n",
       "A tibble: 31 × 2\n",
       "\n",
       "| concept_code &lt;chr&gt; | concept_name &lt;chr&gt; |\n",
       "|---|---|\n",
       "| 008    | Intestinal infections due to other organisms                         |\n",
       "| 008.0  | Intestinal infection due to escherichia coli [E. coli]               |\n",
       "| 008.00 | Intestinal infection due to E. coli, unspecified                     |\n",
       "| 008.01 | Intestinal infection due to enteropathogenic E. coli                 |\n",
       "| 008.02 | Intestinal infection due to enterotoxigenic E. coli                  |\n",
       "| 008.03 | Intestinal infection due to enteroinvasive E. coli                   |\n",
       "| 008.04 | Intestinal infection due to enterohemorrhagic E. coli                |\n",
       "| 008.09 | Intestinal infection due to other intestinal E. coli infections      |\n",
       "| 008.1  | Intestinal infection due to arizona group of paracolon bacilli       |\n",
       "| 008.2  | Intestinal infection due to aerobacter aerogenes                     |\n",
       "| 008.3  | Intestinal infection due to proteus (mirabilis) (morganii)           |\n",
       "| 008.4  | Intestinal infection due to other specified bacteria                 |\n",
       "| 008.41 | Intestinal infection due to staphylococcus                           |\n",
       "| 008.42 | Intestinal infection due to pseudomonas                              |\n",
       "| 008.43 | Intestinal infection due to campylobacter                            |\n",
       "| 008.44 | Intestinal infection due to yersinia enterocolitica                  |\n",
       "| 008.45 | Intestinal infection due to Clostridium difficile                    |\n",
       "| 008.46 | Intestinal infection due to other anaerobes                          |\n",
       "| 008.47 | Intestinal infection due to other gram-negative bacteria             |\n",
       "| 008.49 | Intestinal infection due to other organisms                          |\n",
       "| 008.5  | Bacterial enteritis, unspecified                                     |\n",
       "| 008.6  | Enteritis due to specified virus                                     |\n",
       "| 008.61 | Enteritis due to rotavirus                                           |\n",
       "| 008.62 | Enteritis due to adenovirus                                          |\n",
       "| 008.63 | Enteritis due to norwalk virus                                       |\n",
       "| 008.64 | Enteritis due to other small round viruses [SRV's]                   |\n",
       "| 008.65 | Enteritis due to calicivirus                                         |\n",
       "| 008.66 | Enteritis due to astrovirus                                          |\n",
       "| 008.67 | Enteritis due to enterovirus nec                                     |\n",
       "| 008.69 | Enteritis due to other viral enteritis                               |\n",
       "| 008.8  | Intestinal infection due to other organism, not elsewhere classified |\n",
       "\n"
      ],
      "text/plain": [
       "   concept_code\n",
       "1  008         \n",
       "2  008.0       \n",
       "3  008.00      \n",
       "4  008.01      \n",
       "5  008.02      \n",
       "6  008.03      \n",
       "7  008.04      \n",
       "8  008.09      \n",
       "9  008.1       \n",
       "10 008.2       \n",
       "11 008.3       \n",
       "12 008.4       \n",
       "13 008.41      \n",
       "14 008.42      \n",
       "15 008.43      \n",
       "16 008.44      \n",
       "17 008.45      \n",
       "18 008.46      \n",
       "19 008.47      \n",
       "20 008.49      \n",
       "21 008.5       \n",
       "22 008.6       \n",
       "23 008.61      \n",
       "24 008.62      \n",
       "25 008.63      \n",
       "26 008.64      \n",
       "27 008.65      \n",
       "28 008.66      \n",
       "29 008.67      \n",
       "30 008.69      \n",
       "31 008.8       \n",
       "   concept_name                                                        \n",
       "1  Intestinal infections due to other organisms                        \n",
       "2  Intestinal infection due to escherichia coli [E. coli]              \n",
       "3  Intestinal infection due to E. coli, unspecified                    \n",
       "4  Intestinal infection due to enteropathogenic E. coli                \n",
       "5  Intestinal infection due to enterotoxigenic E. coli                 \n",
       "6  Intestinal infection due to enteroinvasive E. coli                  \n",
       "7  Intestinal infection due to enterohemorrhagic E. coli               \n",
       "8  Intestinal infection due to other intestinal E. coli infections     \n",
       "9  Intestinal infection due to arizona group of paracolon bacilli      \n",
       "10 Intestinal infection due to aerobacter aerogenes                    \n",
       "11 Intestinal infection due to proteus (mirabilis) (morganii)          \n",
       "12 Intestinal infection due to other specified bacteria                \n",
       "13 Intestinal infection due to staphylococcus                          \n",
       "14 Intestinal infection due to pseudomonas                             \n",
       "15 Intestinal infection due to campylobacter                           \n",
       "16 Intestinal infection due to yersinia enterocolitica                 \n",
       "17 Intestinal infection due to Clostridium difficile                   \n",
       "18 Intestinal infection due to other anaerobes                         \n",
       "19 Intestinal infection due to other gram-negative bacteria            \n",
       "20 Intestinal infection due to other organisms                         \n",
       "21 Bacterial enteritis, unspecified                                    \n",
       "22 Enteritis due to specified virus                                    \n",
       "23 Enteritis due to rotavirus                                          \n",
       "24 Enteritis due to adenovirus                                         \n",
       "25 Enteritis due to norwalk virus                                      \n",
       "26 Enteritis due to other small round viruses [SRV's]                  \n",
       "27 Enteritis due to calicivirus                                        \n",
       "28 Enteritis due to astrovirus                                         \n",
       "29 Enteritis due to enterovirus nec                                    \n",
       "30 Enteritis due to other viral enteritis                              \n",
       "31 Intestinal infection due to other organism, not elsewhere classified"
      ]
     },
     "metadata": {},
     "output_type": "display_data"
    }
   ],
   "source": [
    "concept_icd9 %>% filter(grepl(pattern,concept_code))"
   ]
  },
  {
   "cell_type": "code",
   "execution_count": 26,
   "metadata": {},
   "outputs": [
    {
     "data": {
      "text/html": [
       "18672"
      ],
      "text/latex": [
       "18672"
      ],
      "text/markdown": [
       "18672"
      ],
      "text/plain": [
       "[1] 18672"
      ]
     },
     "metadata": {},
     "output_type": "display_data"
    }
   ],
   "source": [
    "concept_icd9  %>% nrow"
   ]
  },
  {
   "cell_type": "code",
   "execution_count": 27,
   "metadata": {},
   "outputs": [
    {
     "data": {
      "text/html": [
       "9112"
      ],
      "text/latex": [
       "9112"
      ],
      "text/markdown": [
       "9112"
      ],
      "text/plain": [
       "[1] 9112"
      ]
     },
     "metadata": {},
     "output_type": "display_data"
    }
   ],
   "source": [
    "thl_icd9fi  %>% nrow"
   ]
  },
  {
   "cell_type": "markdown",
   "metadata": {},
   "source": [
    "### How many are a direct match at the 4th level ??"
   ]
  },
  {
   "cell_type": "code",
   "execution_count": 66,
   "metadata": {},
   "outputs": [],
   "source": [
    "thl_icd9fi <- thl_icd9fi %>% \n",
    "    #round it to 4th digit and add dot (5th digit if it is an E code )\n",
    "    mutate(ICD9CM = if_else(str_sub(ICD9, 0, 0)==\"E\",\n",
    "                                   paste0(str_sub(ICD9, 0, 4), \".\", str_sub(ICD9, 5, 5)),\n",
    "                                   paste0(str_sub(ICD9, 0, 3), \".\", str_sub(ICD9, 4, 4))\n",
    "                                   )\n",
    "    ) %>% \n",
    "    # remove dot if at the end\n",
    "    mutate(ICD9CM = str_replace(ICD9CM, \"\\\\.$\", \"\")) \n"
   ]
  },
  {
   "cell_type": "code",
   "execution_count": 73,
   "metadata": {},
   "outputs": [],
   "source": [
    "# match at the 4th level\n",
    "thl_icd9fi_4 <- inner_join( thl_icd9fi, \n",
    "                concept_icd9  %>% rename(ICD9CM = concept_code),\n",
    "                by = \"ICD9CM\")"
   ]
  },
  {
   "cell_type": "code",
   "execution_count": 86,
   "metadata": {
    "scrolled": true
   },
   "outputs": [
    {
     "data": {
      "text/html": [
       "<table>\n",
       "<caption>A tibble: 6 × 4</caption>\n",
       "<thead>\n",
       "\t<tr><th scope=col>ICD9</th><th scope=col>ICD9LYH</th><th scope=col>ICD9TXT</th><th scope=col>ICD9_procesed</th></tr>\n",
       "\t<tr><th scope=col>&lt;chr&gt;</th><th scope=col>&lt;chr&gt;</th><th scope=col>&lt;chr&gt;</th><th scope=col>&lt;chr&gt;</th></tr>\n",
       "</thead>\n",
       "<tbody>\n",
       "\t<tr><td>0240A</td><td>MALLEUS             </td><td>MALLEUS                         </td><td>024.0</td></tr>\n",
       "\t<tr><td>0250A</td><td>MELIDIOOSI          </td><td>MELIDIOOSI                      </td><td>025.0</td></tr>\n",
       "\t<tr><td>0350A</td><td>ERYSIPELAS STREPTOCO</td><td>ERYSIPELAS STREPTOCOCCICA       </td><td>035.0</td></tr>\n",
       "\t<tr><td>0350B</td><td>ERYSIPELAS STAPHYLOC</td><td>ERYSIPELAS STAPHYLOCOCCICA      </td><td>035.0</td></tr>\n",
       "\t<tr><td>0350X</td><td>ERYSIPELAS ALIA/NUD </td><td>ERYSIPELAS ALIA DEFINITA SEU NUD</td><td>035.0</td></tr>\n",
       "\t<tr><td>0370A</td><td>TETANUS             </td><td>TETANUS                         </td><td>037.0</td></tr>\n",
       "</tbody>\n",
       "</table>\n"
      ],
      "text/latex": [
       "A tibble: 6 × 4\n",
       "\\begin{tabular}{llll}\n",
       " ICD9 & ICD9LYH & ICD9TXT & ICD9\\_procesed\\\\\n",
       " <chr> & <chr> & <chr> & <chr>\\\\\n",
       "\\hline\n",
       "\t 0240A & MALLEUS              & MALLEUS                          & 024.0\\\\\n",
       "\t 0250A & MELIDIOOSI           & MELIDIOOSI                       & 025.0\\\\\n",
       "\t 0350A & ERYSIPELAS STREPTOCO & ERYSIPELAS STREPTOCOCCICA        & 035.0\\\\\n",
       "\t 0350B & ERYSIPELAS STAPHYLOC & ERYSIPELAS STAPHYLOCOCCICA       & 035.0\\\\\n",
       "\t 0350X & ERYSIPELAS ALIA/NUD  & ERYSIPELAS ALIA DEFINITA SEU NUD & 035.0\\\\\n",
       "\t 0370A & TETANUS              & TETANUS                          & 037.0\\\\\n",
       "\\end{tabular}\n"
      ],
      "text/markdown": [
       "\n",
       "A tibble: 6 × 4\n",
       "\n",
       "| ICD9 &lt;chr&gt; | ICD9LYH &lt;chr&gt; | ICD9TXT &lt;chr&gt; | ICD9_procesed &lt;chr&gt; |\n",
       "|---|---|---|---|\n",
       "| 0240A | MALLEUS              | MALLEUS                          | 024.0 |\n",
       "| 0250A | MELIDIOOSI           | MELIDIOOSI                       | 025.0 |\n",
       "| 0350A | ERYSIPELAS STREPTOCO | ERYSIPELAS STREPTOCOCCICA        | 035.0 |\n",
       "| 0350B | ERYSIPELAS STAPHYLOC | ERYSIPELAS STAPHYLOCOCCICA       | 035.0 |\n",
       "| 0350X | ERYSIPELAS ALIA/NUD  | ERYSIPELAS ALIA DEFINITA SEU NUD | 035.0 |\n",
       "| 0370A | TETANUS              | TETANUS                          | 037.0 |\n",
       "\n"
      ],
      "text/plain": [
       "  ICD9  ICD9LYH              ICD9TXT                          ICD9_procesed\n",
       "1 0240A MALLEUS              MALLEUS                          024.0        \n",
       "2 0250A MELIDIOOSI           MELIDIOOSI                       025.0        \n",
       "3 0350A ERYSIPELAS STREPTOCO ERYSIPELAS STREPTOCOCCICA        035.0        \n",
       "4 0350B ERYSIPELAS STAPHYLOC ERYSIPELAS STAPHYLOCOCCICA       035.0        \n",
       "5 0350X ERYSIPELAS ALIA/NUD  ERYSIPELAS ALIA DEFINITA SEU NUD 035.0        \n",
       "6 0370A TETANUS              TETANUS                          037.0        "
      ]
     },
     "metadata": {},
     "output_type": "display_data"
    }
   ],
   "source": [
    "#the ones that dont match \n",
    "thl_icd9fi_4no <- thl_icd9fi  %>% filter( !(ICD9 %in% thl_icd9fi_4$ICD9)) \n",
    "#thl_icd9fi_4no  "
   ]
  },
  {
   "cell_type": "code",
   "execution_count": 78,
   "metadata": {},
   "outputs": [],
   "source": [
    "# match at the 3th level\n",
    "thl_icd9fi_4no <- thl_icd9fi_4no  %>% \n",
    "    #round it to 4th digit and add dot (5th digit if it is an E code )\n",
    "    mutate(ICD9CM = if_else(str_sub(ICD9, 0, 0)==\"E\",\n",
    "                                   paste0(str_sub(ICD9, 0, 4)),\n",
    "                                   paste0(str_sub(ICD9, 0, 3))\n",
    "                                   )\n",
    "    ) \n",
    "\n",
    "thl_icd9fi_3 <- inner_join( thl_icd9fi_4no, \n",
    "                            ICD9CM  %>% rename(ICD9CM = concept_code),\n",
    "                            by = \"ICD9CM\")\n"
   ]
  },
  {
   "cell_type": "code",
   "execution_count": 88,
   "metadata": {
    "scrolled": true
   },
   "outputs": [],
   "source": [
    "#the ones that dont match \n",
    "thl_icd9fi_3no <- thl_icd9fi  %>% filter( !(ICD9 %in% c(thl_icd9fi_4$ICD9, thl_icd9fi_3$ICD9))) \n",
    "#thl_icd9fi_3no "
   ]
  },
  {
   "cell_type": "markdown",
   "metadata": {},
   "source": [
    "These that dont match at the 3th level are the \"codes for external cause\" which we dont care for diagnose "
   ]
  },
  {
   "cell_type": "markdown",
   "metadata": {},
   "source": [
    "# Proposed matching  \n",
    "\n",
    "At the moment :\n",
    "1. Match ICD9fi to ICD9CM at the 4th level\n",
    "2. Round up to the 3th levles these that dont match at the 4th level\n",
    "3. Ignore the no matching E codes"
   ]
  },
  {
   "cell_type": "code",
   "execution_count": 82,
   "metadata": {},
   "outputs": [],
   "source": [
    "# Join all \n",
    "thl_icd9fi_matched <- bind_rows(\n",
    "    # 4th level\n",
    "    thl_icd9fi_4 %>% \n",
    "    mutate(ICD9CD_match_level = \"4_digit_level\" ), \n",
    "    # 3th level\n",
    "    thl_icd9fi_3 %>% \n",
    "    mutate( ICD9CD_match_level = \"3_digit_level\" ), \n",
    "    # no match \n",
    "    thl_icd9fi_3no %>% \n",
    "    mutate( ICD9CD_match_level = \"no_match\" ), \n",
    ")%>% arrange(ICD9)  %>% \n",
    "mutate(ICD9CD_match_level = factor(ICD9CD_match_level, \n",
    "                                     levels = c(\"4_digit_level\", \n",
    "                                                \"3_digit_level\", \n",
    "                                                \"no_match\")\n",
    "                                    )\n",
    "      )"
   ]
  },
  {
   "cell_type": "code",
   "execution_count": 83,
   "metadata": {},
   "outputs": [
    {
     "data": {
      "text/html": [
       "<table>\n",
       "<caption>A tibble: 3 × 2</caption>\n",
       "<thead>\n",
       "\t<tr><th scope=col>ICD9CD_match_level</th><th scope=col>n</th></tr>\n",
       "\t<tr><th scope=col>&lt;fct&gt;</th><th scope=col>&lt;int&gt;</th></tr>\n",
       "</thead>\n",
       "<tbody>\n",
       "\t<tr><td>4_digit_level</td><td>8592</td></tr>\n",
       "\t<tr><td>3_digit_level</td><td> 162</td></tr>\n",
       "\t<tr><td>no_match     </td><td> 358</td></tr>\n",
       "</tbody>\n",
       "</table>\n"
      ],
      "text/latex": [
       "A tibble: 3 × 2\n",
       "\\begin{tabular}{ll}\n",
       " ICD9CD\\_match\\_level & n\\\\\n",
       " <fct> & <int>\\\\\n",
       "\\hline\n",
       "\t 4\\_digit\\_level & 8592\\\\\n",
       "\t 3\\_digit\\_level &  162\\\\\n",
       "\t no\\_match      &  358\\\\\n",
       "\\end{tabular}\n"
      ],
      "text/markdown": [
       "\n",
       "A tibble: 3 × 2\n",
       "\n",
       "| ICD9CD_match_level &lt;fct&gt; | n &lt;int&gt; |\n",
       "|---|---|\n",
       "| 4_digit_level | 8592 |\n",
       "| 3_digit_level |  162 |\n",
       "| no_match      |  358 |\n",
       "\n"
      ],
      "text/plain": [
       "  ICD9CD_match_level n   \n",
       "1 4_digit_level      8592\n",
       "2 3_digit_level       162\n",
       "3 no_match            358"
      ]
     },
     "metadata": {},
     "output_type": "display_data"
    }
   ],
   "source": [
    "thl_icd9fi_matched  %>% count(ICD9CD_match_level)"
   ]
  },
  {
   "cell_type": "code",
   "execution_count": 85,
   "metadata": {},
   "outputs": [],
   "source": [
    "# load ICD10fi\n",
    "write_feather(thl_icd9fi_matched, file.path(data_folder_path,\n",
    "                                      \"ICD9fi\",\n",
    "                                      \"THL_ICD9fi_matched_ICD9CM.feather\") )"
   ]
  },
  {
   "cell_type": "code",
   "execution_count": null,
   "metadata": {},
   "outputs": [],
   "source": []
  }
 ],
 "metadata": {
  "kernelspec": {
   "display_name": "R",
   "language": "R",
   "name": "ir"
  },
  "language_info": {
   "codemirror_mode": "r",
   "file_extension": ".r",
   "mimetype": "text/x-r-source",
   "name": "R",
   "pygments_lexer": "r",
   "version": "3.6.0"
  }
 },
 "nbformat": 4,
 "nbformat_minor": 2
}
